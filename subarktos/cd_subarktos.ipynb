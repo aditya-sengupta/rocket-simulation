{
 "cells": [
  {
   "cell_type": "code",
   "execution_count": 1,
   "metadata": {
    "collapsed": true
   },
   "outputs": [],
   "source": [
    "import numpy as np\n",
    "import matplotlib.pyplot as plt\n",
    "import scipy as sp\n",
    "import scipy.interpolate as interp\n",
    "import scipy.integrate as integ\n",
    "import pandas as pd\n",
    "\n",
    "%matplotlib inline"
   ]
  },
  {
   "cell_type": "code",
   "execution_count": 2,
   "metadata": {
    "collapsed": true
   },
   "outputs": [],
   "source": [
    "# we load motor data from a text file\n",
    "j450 = np.loadtxt(\"J450.txt\")\n",
    "\n",
    "# By interploating it we are basically saying that if we want the thrust at a time we don't\n",
    "# have data for, draw a line between the point before and the point after using in this example\n",
    "# y=mx+b and evaluate that function at the time we want\n",
    "j450interp = sp.interpolate.interp1d(j450[::,0], j450[::,1])\n",
    "\n",
    "# this is a model of our motor thrust as a function od time\n",
    "def j450_model(t):\n",
    "    # If we ask for a time before or after the range we assume thrust is zero\n",
    "    if t > np.max(j450[::,0]) or t < np.min(j450[::,0]):\n",
    "        return 0\n",
    "    # Otherwise we use the interpolate function\n",
    "    return j450interp(t)\n"
   ]
  },
  {
   "cell_type": "code",
   "execution_count": 3,
   "metadata": {
    "collapsed": true
   },
   "outputs": [],
   "source": [
    "# We're going to assume the mass of the motor decreases linearly from the beginning to the end of the burn\n",
    "# Here we are basically doing interpolation ourselves (this is all Kg)\n",
    "\n",
    "def j450_mass(t):\n",
    "    MASS_INIT = 1223 / 1000\n",
    "    MASS_FINAL = (1223 - 510) / 1000\n",
    "    BURN_TIME = 2.3\n",
    "    if t < 0:\n",
    "        return MASS_INIT\n",
    "    if t > BURN_TIME:\n",
    "        return MASS_FINAL\n",
    "    # y = mx + b\n",
    "    return ((MASS_FINAL - MASS_INIT)/BURN_TIME)*t + MASS_INIT"
   ]
  },
  {
   "cell_type": "code",
   "execution_count": 4,
   "metadata": {},
   "outputs": [
    {
     "data": {
      "text/plain": [
       "[<matplotlib.lines.Line2D at 0x12229fac8>]"
      ]
     },
     "execution_count": 4,
     "metadata": {},
     "output_type": "execute_result"
    },
    {
     "data": {
      "image/png": "[encoded data removed]",
      "text/plain": [
       "<matplotlib.figure.Figure at 0x117daee48>"
      ]
     },
     "metadata": {},
     "output_type": "display_data"
    }
   ],
   "source": [
    "sim = pd.read_csv(\"subarktos_sim.csv\", comment='#')\n",
    "\n",
    "times = np.array(sim['Time (s)'])\n",
    "t_burnout = 2.3597 # read this off csv\n",
    "t_apogee = 16.16 # read this off csv\n",
    "n_burnout = np.where(times == t_burnout)[0][0]\n",
    "n_apogee = np.where(times == t_apogee)[0][0]\n",
    "times = times[n_burnout:n_apogee]\n",
    "velocities = np.array(sim['Vertical velocity (ft/s)'])[n_burnout:n_apogee]\n",
    "accels = np.array(sim['Vertical acceleration (ft/s^2)'])[n_burnout:n_apogee]\n",
    "\n",
    "#build an interpolation function and plot it\n",
    "velocity_interp = lambda t: velocities[0] if t < t_burnout else (velocities[-1] if t > t_apogee else sp.interpolate.interp1d(times, velocities)(t))\n",
    "velocity_interp_metric = lambda t: velocity_interp(t)/3.28\n",
    "plt.plot(times, np.vectorize(velocity_interp_metric)(times), \"b-\")"
   ]
  },
  {
   "cell_type": "code",
   "execution_count": 7,
   "metadata": {
    "collapsed": true
   },
   "outputs": [],
   "source": [
    "# We're gonna use a = fnet/m and drag = B1*v + B2v*v\n",
    "\n",
    "def acceleration_model(t,B1,B2):\n",
    "    # If we haven't launched we're sitting on the pad and are gonna read an acceleration of 9.8m/s/s\n",
    "    if t <= 0:\n",
    "        return 9.8\n",
    "    # Get total mass\n",
    "    m = 4.42 + j450_mass(t)\n",
    "    #compute Fnet\n",
    "    fnet = (j450_model(t) - 9.8*m - B1*velocity_interp(t) - B2*velocity_interp_metric(t)**2)\n",
    "    return fnet / m"
   ]
  },
  {
   "cell_type": "code",
   "execution_count": 8,
   "metadata": {},
   "outputs": [
    {
     "name": "stdout",
     "output_type": "stream",
     "text": [
      "[ 0.86094223 -0.00927084]\n",
      "[[ 1.05064804e-03 -2.67438165e-05]\n",
      " [-2.67438165e-05  7.35908385e-07]]\n"
     ]
    },
    {
     "data": {
      "text/plain": [
       "<matplotlib.legend.Legend at 0x1243a4898>"
      ]
     },
     "execution_count": 8,
     "metadata": {},
     "output_type": "execute_result"
    },
    {
     "data": {
      "image/png": "[encoded data removed]",
      "text/plain": [
       "<matplotlib.figure.Figure at 0x1222b9208>"
      ]
     },
     "metadata": {},
     "output_type": "display_data"
    }
   ],
   "source": [
    "# Make our initial guess on B2\n",
    "par0 = [1, 1]\n",
    "# Do a linear least squares fit on our data to try to get more accurate params\n",
    "par, cov = sp.optimize.curve_fit(np.vectorize(acceleration_model), times, accels, par0)\n",
    "\n",
    "# Print out our parameters\n",
    "print(par)\n",
    "print(cov)\n",
    "\n",
    "# Graph measured acceleration and our model on top of one another\n",
    "plt.plot(times, np.vectorize(acceleration_model)(times, *par), \"r-\", label=\"Best fit\")\n",
    "plt.plot(times, accels, \"b-\",label=\"Acceleration data\")\n",
    "plt.legend(loc='upper right')"
   ]
  },
  {
   "cell_type": "code",
   "execution_count": null,
   "metadata": {
    "collapsed": true
   },
   "outputs": [],
   "source": []
  }
 ],
 "metadata": {
  "kernelspec": {
   "display_name": "Python 3",
   "language": "python",
   "name": "python3"
  },
  "language_info": {
   "codemirror_mode": {
    "name": "ipython",
    "version": 3
   },
   "file_extension": ".py",
   "mimetype": "text/x-python",
   "name": "python",
   "nbconvert_exporter": "python",
   "pygments_lexer": "ipython3",
   "version": "3.6.3"
  }
 },
 "nbformat": 4,
 "nbformat_minor": 2
}
